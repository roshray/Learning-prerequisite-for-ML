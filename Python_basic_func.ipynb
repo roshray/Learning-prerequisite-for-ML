{
 "cells": [
  {
   "cell_type": "code",
   "execution_count": 2,
   "metadata": {
    "collapsed": false,
    "deletable": true,
    "editable": true
   },
   "outputs": [
    {
     "name": "stdout",
     "output_type": "stream",
     "text": [
      "30\n"
     ]
    }
   ],
   "source": [
    "#functions to sum all numbers in the list.\n",
    "\n",
    "list = [1,2,3,4,5,6,9]\n",
    "def sum(arq):\n",
    "    ans = 0\n",
    "    for i in arq:\n",
    "        ans += i\n",
    "    return ans\n",
    "    \n",
    "print(sum(list))\n",
    "        "
   ]
  },
  {
   "cell_type": "code",
   "execution_count": 3,
   "metadata": {
    "collapsed": false,
    "deletable": true,
    "editable": true,
    "scrolled": true
   },
   "outputs": [
    {
     "name": "stdout",
     "output_type": "stream",
     "text": [
      "mhtirogla dna erutcurts atad rof nohtyp\n"
     ]
    }
   ],
   "source": [
    "# function to reverse a string\n",
    "\n",
    "str = 'python for data structure and algorithm'\n",
    "def revstr(lakhya):\n",
    "    \n",
    "    return lakhya[::-1]\n",
    "print (revstr(str))\n",
    "    "
   ]
  },
  {
   "cell_type": "code",
   "execution_count": 6,
   "metadata": {
    "collapsed": false,
    "deletable": true,
    "editable": true
   },
   "outputs": [
    {
     "name": "stdout",
     "output_type": "stream",
     "text": [
      "number between the range 65 and 97: 77\n",
      "the num is in the range\n"
     ]
    }
   ],
   "source": [
    "# function to check whether a number is in a given range - (65, 97)\n",
    "\n",
    "\n",
    "def check(number):\n",
    "    if number in range(65,97):\n",
    "        print 'the num is in the range'\n",
    "    else:\n",
    "        print 'the num is not in range'\n",
    "check(number = int(input(\"number between the range 65 and 97: \")))\n"
   ]
  },
  {
   "cell_type": "code",
   "execution_count": 8,
   "metadata": {
    "collapsed": false,
    "deletable": true,
    "editable": true
   },
   "outputs": [
    {
     "name": "stdout",
     "output_type": "stream",
     "text": [
      "enter the sentences: HEllo\n"
     ]
    },
    {
     "ename": "NameError",
     "evalue": "name 'HEllo' is not defined",
     "output_type": "error",
     "traceback": [
      "\u001b[0;31m---------------------------------------------------------------------------\u001b[0m",
      "\u001b[0;31mNameError\u001b[0m                                 Traceback (most recent call last)",
      "\u001b[0;32m<ipython-input-8-a43b07cd58dc>\u001b[0m in \u001b[0;36m<module>\u001b[0;34m()\u001b[0m\n\u001b[1;32m     10\u001b[0m     \u001b[0;32mprint\u001b[0m\u001b[0;34m(\u001b[0m\u001b[0;34m'the lower case length:'\u001b[0m\u001b[0;34m,\u001b[0m\u001b[0mlen\u001b[0m\u001b[0;34m(\u001b[0m\u001b[0mre\u001b[0m\u001b[0;34m.\u001b[0m\u001b[0mfindall\u001b[0m\u001b[0;34m(\u001b[0m\u001b[0;34mr'a-z'\u001b[0m\u001b[0;34m,\u001b[0m\u001b[0marq\u001b[0m\u001b[0;34m)\u001b[0m\u001b[0;34m)\u001b[0m\u001b[0;34m)\u001b[0m\u001b[0;34m\u001b[0m\u001b[0m\n\u001b[1;32m     11\u001b[0m \u001b[0;34m\u001b[0m\u001b[0m\n\u001b[0;32m---> 12\u001b[0;31m \u001b[0mStrings\u001b[0m\u001b[0;34m(\u001b[0m\u001b[0minput\u001b[0m\u001b[0;34m(\u001b[0m\u001b[0;34m\"enter the sentences: \"\u001b[0m\u001b[0;34m)\u001b[0m\u001b[0;34m)\u001b[0m\u001b[0;34m\u001b[0m\u001b[0m\n\u001b[0m",
      "\u001b[0;32m/home/roshan/.local/lib/python2.7/site-packages/ipykernel/ipkernel.pyc\u001b[0m in \u001b[0;36m<lambda>\u001b[0;34m(prompt)\u001b[0m\n\u001b[1;32m    162\u001b[0m             \u001b[0mself\u001b[0m\u001b[0;34m.\u001b[0m\u001b[0m_sys_eval_input\u001b[0m \u001b[0;34m=\u001b[0m \u001b[0mbuiltin_mod\u001b[0m\u001b[0;34m.\u001b[0m\u001b[0minput\u001b[0m\u001b[0;34m\u001b[0m\u001b[0m\n\u001b[1;32m    163\u001b[0m             \u001b[0mbuiltin_mod\u001b[0m\u001b[0;34m.\u001b[0m\u001b[0mraw_input\u001b[0m \u001b[0;34m=\u001b[0m \u001b[0mself\u001b[0m\u001b[0;34m.\u001b[0m\u001b[0mraw_input\u001b[0m\u001b[0;34m\u001b[0m\u001b[0m\n\u001b[0;32m--> 164\u001b[0;31m             \u001b[0mbuiltin_mod\u001b[0m\u001b[0;34m.\u001b[0m\u001b[0minput\u001b[0m \u001b[0;34m=\u001b[0m \u001b[0;32mlambda\u001b[0m \u001b[0mprompt\u001b[0m\u001b[0;34m=\u001b[0m\u001b[0;34m''\u001b[0m\u001b[0;34m:\u001b[0m \u001b[0meval\u001b[0m\u001b[0;34m(\u001b[0m\u001b[0mself\u001b[0m\u001b[0;34m.\u001b[0m\u001b[0mraw_input\u001b[0m\u001b[0;34m(\u001b[0m\u001b[0mprompt\u001b[0m\u001b[0;34m)\u001b[0m\u001b[0;34m)\u001b[0m\u001b[0;34m\u001b[0m\u001b[0m\n\u001b[0m\u001b[1;32m    165\u001b[0m         \u001b[0mself\u001b[0m\u001b[0;34m.\u001b[0m\u001b[0m_save_getpass\u001b[0m \u001b[0;34m=\u001b[0m \u001b[0mgetpass\u001b[0m\u001b[0;34m.\u001b[0m\u001b[0mgetpass\u001b[0m\u001b[0;34m\u001b[0m\u001b[0m\n\u001b[1;32m    166\u001b[0m         \u001b[0mgetpass\u001b[0m\u001b[0;34m.\u001b[0m\u001b[0mgetpass\u001b[0m \u001b[0;34m=\u001b[0m \u001b[0mself\u001b[0m\u001b[0;34m.\u001b[0m\u001b[0mgetpass\u001b[0m\u001b[0;34m\u001b[0m\u001b[0m\n",
      "\u001b[0;32m/home/roshan/.local/lib/python2.7/site-packages/ipykernel/ipkernel.pyc\u001b[0m in \u001b[0;36m<module>\u001b[0;34m()\u001b[0m\n",
      "\u001b[0;31mNameError\u001b[0m: name 'HEllo' is not defined"
     ]
    }
   ],
   "source": [
    "#function that accepts a string and calculate the number of upper case letters and lower case letters\n",
    "\n",
    "\n",
    "#re.findall(pattern, string, flags=0)\n",
    "#Return all non-overlapping matches of pattern in string, as a list of strings. The string is scanned left-to-right, and matches are returned in the order found. If one or more groups are present in the pattern, return a list of groups; this will be a list of tuples if the pattern has more than one group. Empty matches are included in the result unless they touch the beginning of another match\n",
    "\n",
    "import re\n",
    "def Strings(arq):\n",
    "    print('the upper case length:',len(re.findall(r'A-Z',arq)))\n",
    "    print('the lower case length:',len(re.findall(r'a-z',arq)))\n",
    "    \n",
    "Strings(input(\"enter the sentences: \"))\n",
    "\n",
    "#error"
   ]
  },
  {
   "cell_type": "code",
   "execution_count": 14,
   "metadata": {
    "collapsed": false,
    "deletable": true,
    "editable": true
   },
   "outputs": [
    {
     "name": "stdout",
     "output_type": "stream",
     "text": [
      "[1, 2, 3, 4, 5]\n"
     ]
    }
   ],
   "source": [
    "# function that takes a list and returns a new list with unique elements of the first list. Do not use SET.\n",
    "#Sample List : [1,2,3,3,3,3,4,5] \" Unique List : [1, 2, 3, 4, 5]\n",
    "\n",
    "def unq(list):\n",
    "    new_list =[]\n",
    "    for i in list:\n",
    "        if i not in new_list:\n",
    "            new_list.append(i)\n",
    "    print(new_list)\n",
    "list = [1,2,3,3,3,3,4,5]\n",
    "unq(list)\n"
   ]
  },
  {
   "cell_type": "code",
   "execution_count": 21,
   "metadata": {
    "collapsed": false,
    "deletable": true,
    "editable": true
   },
   "outputs": [
    {
     "name": "stdout",
     "output_type": "stream",
     "text": [
      "[2, 4, 6, 8]\n"
     ]
    }
   ],
   "source": [
    "#Python program to print the even numbers from a given list.\n",
    "#Sample List : [1, 2, 3, 4, 5, 6, 7, 8, 9] \" Expected Result : [2, 4, 6, 8] \n",
    "\n",
    "\n",
    "def even_list(list1):\n",
    "    new_list=[]\n",
    "    for i in list1:\n",
    "        if i%2 == 0:\n",
    "            new_list.append(i)\n",
    "    print(new_list)\n",
    "list1 = [1,2,3,4,5,6,7,8,9]\n",
    "even_list(list1)\n",
    "    \n",
    "    \n",
    "    \n",
    "    \n",
    "    "
   ]
  },
  {
   "cell_type": "code",
   "execution_count": 17,
   "metadata": {
    "collapsed": false,
    "deletable": true,
    "editable": true
   },
   "outputs": [
    {
     "name": "stdout",
     "output_type": "stream",
     "text": [
      "Enter to check palindrome:eye\n",
      "eye is palindrome\n"
     ]
    }
   ],
   "source": [
    "# function that checks whether a passed string is palindrome or not.\n",
    "a = raw_input(\"Enter to check palindrome:\") \n",
    "def palin():\n",
    "    #Extended Slices to reverse order.\n",
    "    b = a[::-1]\n",
    "    if a == b:\n",
    "        print \"%s is palindrome\" %a\n",
    "    else:\n",
    "        print \"%s is not palindrome\" %a\n",
    "palin()\n",
    "\n",
    "        \n",
    "        "
   ]
  },
  {
   "cell_type": "code",
   "execution_count": 1,
   "metadata": {
    "collapsed": false,
    "deletable": true,
    "editable": true
   },
   "outputs": [],
   "source": [
    "# Python function to check whether a string is pangram or not.\n",
    "def is_pangram(phrase):\n",
    "    alphabet = \"abcdefghijklmnopqrstuvwxyz\"\n",
    "    phraseLetters = \"\"\n",
    "    for char in phrase:\n",
    "        if char in alphabet:\n",
    "            phraseLetters += char\n",
    "    for char in alphabet:\n",
    "        if char not in phrase:\n",
    "            print phraseLetters, alphabet\n",
    "            return False\n",
    "\n",
    "    return True"
   ]
  },
  {
   "cell_type": "code",
   "execution_count": 2,
   "metadata": {
    "collapsed": false,
    "deletable": true,
    "editable": true
   },
   "outputs": [
    {
     "data": {
      "text/plain": [
       "False"
      ]
     },
     "execution_count": 2,
     "metadata": {},
     "output_type": "execute_result"
    }
   ],
   "source": [
    "def is_panagram(sentence):\n",
    "    sentence = set(sentence.lower())\n",
    "    alphabet = 'abcdefghijklmnopqrstuvwxyz'\n",
    "    return sentence.issuperset(alphabet)\n",
    "is_panagram('Thinkpad, Lenovo,Pythonist')"
   ]
  },
  {
   "cell_type": "code",
   "execution_count": 6,
   "metadata": {
    "collapsed": false,
    "deletable": true,
    "editable": true
   },
   "outputs": [
    {
     "name": "stdout",
     "output_type": "stream",
     "text": [
      "[1, 4, 9, 16, 25, 36, 49, 64, 81, 100, 121, 144, 169, 196, 225, 256, 289, 324, 361, 400, 441, 484, 529, 576, 625, 676, 729, 784, 841, 900]\n"
     ]
    }
   ],
   "source": [
    "#Python function to create and print a list where the values are square of numbers between 1 and 30 (both included).\n",
    "\n",
    "def SquareNum():\n",
    "    num =[]\n",
    "    for i in range(1,31):\n",
    "        num.append(i**2)\n",
    "    print(num)\n",
    "        \n",
    "SquareNum()\n",
    "        \n",
    "    \n",
    "\n",
    "\n"
   ]
  },
  {
   "cell_type": "code",
   "execution_count": 7,
   "metadata": {
    "collapsed": false,
    "deletable": true,
    "editable": true
   },
   "outputs": [
    {
     "name": "stdout",
     "output_type": "stream",
     "text": [
      "[1, 4, 9, 16, 25, 36, 49, 64, 81, 100, 121, 144, 169, 196, 225, 256, 289, 324, 361, 400, 441, 484, 529, 576, 625, 676, 729, 784, 841, 900]\n"
     ]
    }
   ],
   "source": [
    "def squareNum():\n",
    "    print[(i+1)**2 for i in range(30)]\n",
    "    \n",
    "squareNum()"
   ]
  },
  {
   "cell_type": "code",
   "execution_count": 10,
   "metadata": {
    "collapsed": false,
    "deletable": true,
    "editable": true
   },
   "outputs": [
    {
     "name": "stdout",
     "output_type": "stream",
     "text": [
      "[1, 4, 9, 16, 25, 36, 49, 64, 81, 100, 121, 144, 169, 196, 225, 256, 289, 324, 361, 400, 441, 484, 529, 576, 625, 676, 729, 784, 841, 900, 961]\n"
     ]
    }
   ],
   "source": [
    "def square():\n",
    "    numlist =[]\n",
    "    for i in range(31):\n",
    "        numlist.append((i+1)**2)\n",
    "    print(numlist)\n",
    "square()"
   ]
  },
  {
   "cell_type": "code",
   "execution_count": 14,
   "metadata": {
    "collapsed": false,
    "deletable": true,
    "editable": true
   },
   "outputs": [
    {
     "name": "stdout",
     "output_type": "stream",
     "text": [
      " number1:23\n",
      "number2:32\n",
      "number3:21\n",
      "21\n"
     ]
    }
   ],
   "source": [
    "def maxNum(num1,num2,num3):\n",
    "    if(num1>num2 & num1>num3):\n",
    "        print(num1)\n",
    "    elif(num2>num3 & num2>num1):\n",
    "         \n",
    "        print(num2)\n",
    "    else:\n",
    "        print(num3)\n",
    "        \n",
    "maxNum(input('number1:'), input('number2:'),input('number3:'))\n",
    "\n",
    "    "
   ]
  },
  {
   "cell_type": "code",
   "execution_count": 24,
   "metadata": {
    "collapsed": false,
    "deletable": true,
    "editable": true
   },
   "outputs": [
    {
     "data": {
      "text/plain": [
       "'ruan'"
      ]
     },
     "execution_count": 24,
     "metadata": {},
     "output_type": "execute_result"
    }
   ],
   "source": [
    "\n",
    "def both_ends(s):\n",
    "    if len(s) < 2:\n",
    "        return ''\n",
    "    else:\n",
    "        return s[0:2] + s[-2:]\n",
    "                         \n",
    "\n",
    "    "
   ]
  },
  {
   "cell_type": "code",
   "execution_count": 50,
   "metadata": {
    "collapsed": false,
    "deletable": true,
    "editable": true
   },
   "outputs": [
    {
     "data": {
      "text/plain": [
       "'pytho**n'"
      ]
     },
     "execution_count": 50,
     "metadata": {},
     "output_type": "execute_result"
    }
   ],
   "source": [
    "# where all instances of stra have been replaced by strb.\n",
    "s='pythoppn'\n",
    "def fix_start(s):\n",
    "    stra = s[0]\n",
    "    strb = s[1:]\n",
    "    replace_str = strb.replace(stra,'*')\n",
    "    return stra + replace_str\n",
    "\n",
    "fix_start(s)"
   ]
  },
  {
   "cell_type": "code",
   "execution_count": 15,
   "metadata": {
    "collapsed": false,
    "deletable": true,
    "editable": true
   },
   "outputs": [
    {
     "data": {
      "text/plain": [
       "'tainkpadthinkpad'"
      ]
     },
     "execution_count": 15,
     "metadata": {},
     "output_type": "execute_result"
    }
   ],
   "source": [
    "a='tamma'\n",
    "b='thinkpad'\n",
    "def mix_up(a, b):\n",
    "\tstr1 =a[:2]\n",
    "\tstr_res=a[2:]\n",
    "\tstr2 =b[:2]\n",
    "\tstr_res2=b[2:]\n",
    "    \n",
    "\treturn ((str1 + str_res2)+ '' +(str2 + str_res2))\n",
    "mix_up(a,b)"
   ]
  },
  {
   "cell_type": "code",
   "execution_count": null,
   "metadata": {
    "collapsed": false,
    "deletable": true,
    "editable": true
   },
   "outputs": [],
   "source": []
  },
  {
   "cell_type": "code",
   "execution_count": null,
   "metadata": {
    "collapsed": true,
    "deletable": true,
    "editable": true
   },
   "outputs": [],
   "source": []
  },
  {
   "cell_type": "code",
   "execution_count": null,
   "metadata": {
    "collapsed": true,
    "deletable": true,
    "editable": true
   },
   "outputs": [],
   "source": []
  }
 ],
 "metadata": {
  "kernelspec": {
   "display_name": "Python 2",
   "language": "python",
   "name": "python2"
  },
  "language_info": {
   "codemirror_mode": {
    "name": "ipython",
    "version": 2
   },
   "file_extension": ".py",
   "mimetype": "text/x-python",
   "name": "python",
   "nbconvert_exporter": "python",
   "pygments_lexer": "ipython2",
   "version": "2.7.12"
  }
 },
 "nbformat": 4,
 "nbformat_minor": 2
}
